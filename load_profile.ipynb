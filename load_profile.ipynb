{
 "cells": [
  {
   "cell_type": "code",
   "execution_count": null,
   "id": "298438f7",
   "metadata": {},
   "outputs": [],
   "source": [
    "import pandas as pd"
   ]
  },
  {
   "cell_type": "code",
   "execution_count": 4,
   "id": "756220ec",
   "metadata": {},
   "outputs": [],
   "source": [
    "# List of dataset names\n",
    "datasets = ['SFH9', 'SFH27', 'SFH30', 'SFH32', 'SFH34', 'SFH36']\n",
    "\n",
    "# Dictionary to store DataFrames\n",
    "dfs = {}\n",
    "\n",
    "# Loop through each dataset\n",
    "for dataset in datasets:\n",
    "    # Read the dataset (assuming CSV format; adjust if needed)\n",
    "    df = pd.read_csv(f'Dataset/CSVs/{dataset}.csv')\n",
    "    \n",
    "    # Select only the required columns: index, P_TOT, Q_TOT\n",
    "    df_filtered = df[['index', 'P_TOT', 'Q_TOT']]\n",
    "    \n",
    "    # Store in dictionary with dataset name as key\n",
    "    dfs[dataset] = df_filtered"
   ]
  },
  {
   "cell_type": "code",
   "execution_count": 11,
   "id": "77e199f5",
   "metadata": {},
   "outputs": [],
   "source": [
    "# Define the Unix timestamp range for 21 April 2020 00:00 to 23:59\n",
    "start_time = int(pd.Timestamp('2020-04-21 00:00:00').timestamp())\n",
    "end_time = int(pd.Timestamp('2020-04-21 23:59:59').timestamp())\n",
    "\n",
    "# Dictionary to store filtered DataFrames\n",
    "filtered_dfs = {}\n",
    "\n",
    "# Loop through each DataFrame in dfs\n",
    "for dataset, df in dfs.items():         # stores key in dataset and value in df, df containes the DataFrame\n",
    "    \n",
    "    # Filter the DataFrame for the specified time range\n",
    "    filtered_df = df[(df['index'] >= start_time) & (df['index'] <= end_time)]\n",
    "    \n",
    "    # Store the filtered DataFrame in the new dictionary\n",
    "    filtered_dfs[dataset] = filtered_df\n",
    "    \n",
    "    filtered_df.to_excel(f'D:/Study/Masters in Automation and IT/Semester 2/PAC in Electrical Energy System/Assignment/load_profile/Dataset/filtered_dfs/{dataset}.xlsx', index=False)"
   ]
  }
 ],
 "metadata": {
  "kernelspec": {
   "display_name": "base",
   "language": "python",
   "name": "python3"
  },
  "language_info": {
   "codemirror_mode": {
    "name": "ipython",
    "version": 3
   },
   "file_extension": ".py",
   "mimetype": "text/x-python",
   "name": "python",
   "nbconvert_exporter": "python",
   "pygments_lexer": "ipython3",
   "version": "3.12.7"
  }
 },
 "nbformat": 4,
 "nbformat_minor": 5
}
